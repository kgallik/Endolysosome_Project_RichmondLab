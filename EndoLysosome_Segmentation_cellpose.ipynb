{
 "cells": [
  {
   "cell_type": "code",
   "execution_count": 1,
   "id": "699c5ec6",
   "metadata": {},
   "outputs": [],
   "source": [
    "from bioio import BioImage\n",
    "import numpy as np\n",
    "import os\n",
    "from glob import glob\n",
    "import skimage as sk\n",
    "import napari\n",
    "from cellpose import models, core, io, plot\n",
    "from pathlib import Path\n",
    "from tqdm import trange\n",
    "import matplotlib.pyplot as plt\n",
    "from natsort import natsorted"
   ]
  },
  {
   "cell_type": "code",
   "execution_count": 2,
   "id": "2783602e",
   "metadata": {},
   "outputs": [],
   "source": [
    "test_files = sorted(glob('../../**/*.czi'))\n",
    "czi_files = list(map(BioImage,test_files))\n"
   ]
  },
  {
   "cell_type": "code",
   "execution_count": 3,
   "id": "4c149a2e",
   "metadata": {},
   "outputs": [
    {
     "data": {
      "text/plain": [
       "8"
      ]
     },
     "execution_count": 3,
     "metadata": {},
     "output_type": "execute_result"
    }
   ],
   "source": [
    "len(czi_files)"
   ]
  },
  {
   "cell_type": "markdown",
   "id": "b064e74a",
   "metadata": {},
   "source": [
    "Split images for CellPose Training"
   ]
  },
  {
   "cell_type": "code",
   "execution_count": 5,
   "id": "54dd87e2",
   "metadata": {},
   "outputs": [
    {
     "name": "stderr",
     "output_type": "stream",
     "text": [
      "c:\\ProgramData\\anaconda3\\envs\\CellPoseCLE-env\\lib\\site-packages\\skimage\\_shared\\utils.py:328: UserWarning: ../../CellPose_Training_3D/inverted_ch1_img_01.tiff is a low contrast image\n",
      "  return func(*args, **kwargs)\n",
      "c:\\ProgramData\\anaconda3\\envs\\CellPoseCLE-env\\lib\\site-packages\\skimage\\_shared\\utils.py:328: UserWarning: ../../CellPose_Training_3D/inverted_ch2_img_01.tiff is a low contrast image\n",
      "  return func(*args, **kwargs)\n",
      "c:\\ProgramData\\anaconda3\\envs\\CellPoseCLE-env\\lib\\site-packages\\skimage\\_shared\\utils.py:328: UserWarning: ../../CellPose_Training_3D/inverted_ch1_img_02.tiff is a low contrast image\n",
      "  return func(*args, **kwargs)\n",
      "c:\\ProgramData\\anaconda3\\envs\\CellPoseCLE-env\\lib\\site-packages\\skimage\\_shared\\utils.py:328: UserWarning: ../../CellPose_Training_3D/inverted_ch2_img_02.tiff is a low contrast image\n",
      "  return func(*args, **kwargs)\n",
      "c:\\ProgramData\\anaconda3\\envs\\CellPoseCLE-env\\lib\\site-packages\\skimage\\_shared\\utils.py:328: UserWarning: ../../CellPose_Training_3D/inverted_ch1_img_03.tiff is a low contrast image\n",
      "  return func(*args, **kwargs)\n",
      "c:\\ProgramData\\anaconda3\\envs\\CellPoseCLE-env\\lib\\site-packages\\skimage\\_shared\\utils.py:328: UserWarning: ../../CellPose_Training_3D/inverted_ch2_img_03.tiff is a low contrast image\n",
      "  return func(*args, **kwargs)\n",
      "c:\\ProgramData\\anaconda3\\envs\\CellPoseCLE-env\\lib\\site-packages\\skimage\\_shared\\utils.py:328: UserWarning: ../../CellPose_Training_3D/inverted_ch1_img_04.tiff is a low contrast image\n",
      "  return func(*args, **kwargs)\n",
      "c:\\ProgramData\\anaconda3\\envs\\CellPoseCLE-env\\lib\\site-packages\\skimage\\_shared\\utils.py:328: UserWarning: ../../CellPose_Training_3D/inverted_ch2_img_04.tiff is a low contrast image\n",
      "  return func(*args, **kwargs)\n",
      "c:\\ProgramData\\anaconda3\\envs\\CellPoseCLE-env\\lib\\site-packages\\skimage\\_shared\\utils.py:328: UserWarning: ../../CellPose_Training_3D/inverted_ch1_img_05.tiff is a low contrast image\n",
      "  return func(*args, **kwargs)\n",
      "c:\\ProgramData\\anaconda3\\envs\\CellPoseCLE-env\\lib\\site-packages\\skimage\\_shared\\utils.py:328: UserWarning: ../../CellPose_Training_3D/inverted_ch2_img_05.tiff is a low contrast image\n",
      "  return func(*args, **kwargs)\n",
      "c:\\ProgramData\\anaconda3\\envs\\CellPoseCLE-env\\lib\\site-packages\\skimage\\_shared\\utils.py:328: UserWarning: ../../CellPose_Training_3D/inverted_ch1_img_06.tiff is a low contrast image\n",
      "  return func(*args, **kwargs)\n",
      "c:\\ProgramData\\anaconda3\\envs\\CellPoseCLE-env\\lib\\site-packages\\skimage\\_shared\\utils.py:328: UserWarning: ../../CellPose_Training_3D/inverted_ch2_img_06.tiff is a low contrast image\n",
      "  return func(*args, **kwargs)\n",
      "c:\\ProgramData\\anaconda3\\envs\\CellPoseCLE-env\\lib\\site-packages\\skimage\\_shared\\utils.py:328: UserWarning: ../../CellPose_Training_3D/inverted_ch1_img_07.tiff is a low contrast image\n",
      "  return func(*args, **kwargs)\n",
      "c:\\ProgramData\\anaconda3\\envs\\CellPoseCLE-env\\lib\\site-packages\\skimage\\_shared\\utils.py:328: UserWarning: ../../CellPose_Training_3D/inverted_ch2_img_07.tiff is a low contrast image\n",
      "  return func(*args, **kwargs)\n",
      "c:\\ProgramData\\anaconda3\\envs\\CellPoseCLE-env\\lib\\site-packages\\skimage\\_shared\\utils.py:328: UserWarning: ../../CellPose_Training_3D/inverted_ch1_img_08.tiff is a low contrast image\n",
      "  return func(*args, **kwargs)\n",
      "c:\\ProgramData\\anaconda3\\envs\\CellPoseCLE-env\\lib\\site-packages\\skimage\\_shared\\utils.py:328: UserWarning: ../../CellPose_Training_3D/inverted_ch2_img_08.tiff is a low contrast image\n",
      "  return func(*args, **kwargs)\n"
     ]
    }
   ],
   "source": [
    "c=1\n",
    "for file in czi_files:\n",
    "    img = file.data\n",
    "    img = np.squeeze(img)\n",
    "    ch1 = img[0,...]\n",
    "    ch1_inverted = sk.util.invert(ch1)\n",
    "    ch2 = img[1,...]\n",
    "    ch2_inverted = sk.util.invert(ch2)\n",
    "    sk.io.imsave(os.path.join('../../CellPose_Training_3D/','inverted_ch1_img_0'+str(c)+'.tiff'),ch1_inverted)\n",
    "    sk.io.imsave(os.path.join('../../CellPose_Training_3D/','inverted_ch2_img_0'+str(c)+'.tiff'),ch2_inverted)\n",
    "    c+=1"
   ]
  },
  {
   "cell_type": "code",
   "execution_count": 11,
   "id": "9de2b092",
   "metadata": {},
   "outputs": [
    {
     "data": {
      "text/plain": [
       "(2, 71, 1000, 1000)"
      ]
     },
     "execution_count": 11,
     "metadata": {},
     "output_type": "execute_result"
    }
   ],
   "source": [
    "img.shape"
   ]
  },
  {
   "cell_type": "code",
   "execution_count": 22,
   "id": "79618304",
   "metadata": {},
   "outputs": [],
   "source": [
    "ch1_img = np.squeeze(ch1_img)"
   ]
  },
  {
   "cell_type": "code",
   "execution_count": 7,
   "id": "2d24e856",
   "metadata": {},
   "outputs": [
    {
     "name": "stderr",
     "output_type": "stream",
     "text": [
      "C:\\Users\\Kristin.Gallik\\AppData\\Local\\Temp\\ipykernel_5948\\1044138916.py:1: FutureWarning: `napari.view_image` is deprecated and will be removed in napari 0.7.0.\n",
      "Use `viewer = napari.Viewer(); viewer.add_image(...)` instead.\n",
      "  viewer = napari.view_image(img, scale=[czi_file.physical_pixel_sizes.Z,czi_file.physical_pixel_sizes.X,czi_file.physical_pixel_sizes.Y])\n"
     ]
    }
   ],
   "source": [
    "viewer = napari.view_image(img, scale=[czi_file.physical_pixel_sizes.Z,czi_file.physical_pixel_sizes.X,czi_file.physical_pixel_sizes.Y])"
   ]
  },
  {
   "cell_type": "code",
   "execution_count": 3,
   "id": "4632a448",
   "metadata": {},
   "outputs": [],
   "source": [
    "if core.use_gpu()==False:\n",
    "  raise ImportError(\"No GPU access, change your runtime\")\n",
    "\n",
    "model = models.CellposeModel(gpu=True)"
   ]
  },
  {
   "cell_type": "code",
   "execution_count": null,
   "id": "719fae22",
   "metadata": {},
   "outputs": [
    {
     "name": "stdout",
     "output_type": "stream",
     "text": [
      "2025-08-16 11:41:40,924 [INFO] WRITING LOG OUTPUT TO C:\\Users\\Kristin.Gallik\\.cellpose\\run.log\n",
      "2025-08-16 11:41:40,926 [INFO] \n",
      "cellpose version: \t4.0.6 \n",
      "platform:       \twin32 \n",
      "python version: \t3.10.16 \n",
      "torch version:  \t2.8.0+cu126\n",
      "2025-08-16 11:41:42,993 [INFO] running YX: 71 planes of size (1000, 1000)\n",
      "2025-08-16 11:41:42,999 [INFO] 0%|          | 0/71 [00:00<?, ?it/s]\n",
      "2025-08-16 11:44:52,411 [INFO] 1%|1         | 1/71 [03:09<3:40:58, 189.41s/it]\n",
      "2025-08-16 11:48:07,363 [INFO] 3%|2         | 2/71 [06:24<3:41:34, 192.67s/it]\n",
      "2025-08-16 11:51:07,499 [INFO] 4%|4         | 3/71 [09:24<3:31:52, 186.95s/it]\n",
      "2025-08-16 11:52:06,091 [INFO] 4%|4         | 3/71 [10:23<3:55:23, 207.70s/it]\n"
     ]
    }
   ],
   "source": [
    "first_channel = 0\n",
    "second_channel = 1\n",
    "selected_channels = []\n",
    "for i, c in enumerate([first_channel, second_channel]):\n",
    "  if c == 'None':\n",
    "    continue\n",
    "  if int(c) > img.shape[0]:\n",
    "    assert False, 'invalid channel index, must have index greater or equal to the number of channels'\n",
    "  if c != 'None':\n",
    "    selected_channels.append(int(c))\n",
    "\n",
    "\n",
    "\n",
    "img_selected_channels = np.zeros_like(img)\n",
    "img_selected_channels[:, :, :len(selected_channels)] = img[:, :, selected_channels]\n",
    "\n",
    "io.logger_setup()\n",
    "flow_threshold = 0.4\n",
    "cellprob_threshold = 0.0\n",
    "tile_norm_blocksize = 0\n",
    "\n",
    "masks, flows, styles = model.eval(img_selected_channels, channel_axis=0, z_axis=1, batch_size=32, flow_threshold=flow_threshold, cellprob_threshold=cellprob_threshold,\n",
    "                                  normalize={\"tile_norm_blocksize\": tile_norm_blocksize},do_3D=True)\n",
    "\n",
    "fig = plt.figure(figsize=(12,5))\n",
    "plot.show_segmentation(fig, img_selected_channels, masks, flows[0])\n",
    "plt.tight_layout()\n",
    "plt.show()"
   ]
  },
  {
   "cell_type": "code",
   "execution_count": 6,
   "id": "6aa4adab",
   "metadata": {},
   "outputs": [],
   "source": [
    "mask_files = sorted(glob(\"../../CellPose_Training_3D/*_masks.tif\"))\n",
    "masks = list(map(sk.io.imread,mask_files))"
   ]
  },
  {
   "cell_type": "code",
   "execution_count": 7,
   "id": "44671ec1",
   "metadata": {},
   "outputs": [],
   "source": [
    "cleared_boarders = [sk.segmentation.clear_border(mask) for mask in masks]"
   ]
  },
  {
   "cell_type": "code",
   "execution_count": 9,
   "id": "a6ed3657",
   "metadata": {},
   "outputs": [],
   "source": [
    "removed_small_objects = [sk.morphology.remove_small_objects(img, min_size=50) for img in cleared_boarders]"
   ]
  },
  {
   "cell_type": "code",
   "execution_count": 10,
   "id": "99397591",
   "metadata": {},
   "outputs": [
    {
     "name": "stderr",
     "output_type": "stream",
     "text": [
      "WARNING: DirectWrite: CreateFontFaceFromHDC() failed (Indicates an error in an input file such as a font file.) for QFontDef(Family=\"\", pointsize=12, pixelsize=16, styleHint=5, weight=50, stretch=100, hintingPreference=0) LOGFONT(\"MS Sans Serif\", lfWidth=0, lfHeight=-16) dpi=144\n"
     ]
    }
   ],
   "source": [
    "viewer = napari.view_image(removed_small_objects[1])"
   ]
  },
  {
   "cell_type": "code",
   "execution_count": 11,
   "id": "46ba6189",
   "metadata": {},
   "outputs": [],
   "source": [
    "c=1\n",
    "for img in removed_small_objects:\n",
    "    sk.io.imsave(os.path.join('../../CellPose_Training_3D/','ch1_img_0'+str(c)+'_filtered_masks.tif'),img,check_contrast=False)\n",
    "    c+=1"
   ]
  },
  {
   "cell_type": "code",
   "execution_count": null,
   "id": "c5908b38",
   "metadata": {},
   "outputs": [],
   "source": [
    "\n"
   ]
  }
 ],
 "metadata": {
  "kernelspec": {
   "display_name": "Python 3",
   "language": "python",
   "name": "python3"
  },
  "language_info": {
   "codemirror_mode": {
    "name": "ipython",
    "version": 3
   },
   "file_extension": ".py",
   "mimetype": "text/x-python",
   "name": "python",
   "nbconvert_exporter": "python",
   "pygments_lexer": "ipython3",
   "version": "3.10.16"
  }
 },
 "nbformat": 4,
 "nbformat_minor": 5
}
